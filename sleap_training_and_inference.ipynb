{
  "nbformat": 4,
  "nbformat_minor": 0,
  "metadata": {
    "colab": {
      "provenance": [],
      "toc_visible": true,
      "gpuType": "T4",
      "include_colab_link": true
    },
    "kernelspec": {
      "name": "python3",
      "display_name": "Python 3"
    },
    "language_info": {
      "name": "python"
    },
    "accelerator": "GPU"
  },
  "cells": [
    {
      "cell_type": "markdown",
      "metadata": {
        "id": "view-in-github",
        "colab_type": "text"
      },
      "source": [
        "<a href=\"https://colab.research.google.com/github/deliacurran/condron-lab-sleap-analysis/blob/main/sleap_training_and_inference.ipynb\" target=\"_parent\"><img src=\"https://colab.research.google.com/assets/colab-badge.svg\" alt=\"Open In Colab\"/></a>"
      ]
    },
    {
      "cell_type": "markdown",
      "source": [
        "# Configure Training Environment"
      ],
      "metadata": {
        "id": "X6KGPu4pHurJ"
      }
    },
    {
      "cell_type": "code",
      "source": [
        "# override and install python 3.10\n",
        "! wget -O mini.sh https://repo.anaconda.com/miniconda/Miniconda3-py310_22.11.1-1-Linux-x86_64.sh\n",
        "! chmod +x mini.sh\n",
        "! bash ./mini.sh -b -f -p /usr/local\n",
        "! conda install -q -y jupyter\n",
        "! conda install -q -y google-colab -c conda-forge\n",
        "! python -m ipykernel install --name \"py310\" --user"
      ],
      "metadata": {
        "collapsed": true,
        "id": "9Ke2obDM0UFY",
        "colab": {
          "base_uri": "https://localhost:8080/"
        },
        "outputId": "5858e718-b320-43f7-dfc4-8b8def8912b2"
      },
      "execution_count": null,
      "outputs": [
        {
          "output_type": "stream",
          "name": "stdout",
          "text": [
            "--2025-03-28 00:27:21--  https://repo.anaconda.com/miniconda/Miniconda3-py310_22.11.1-1-Linux-x86_64.sh\n",
            "Resolving repo.anaconda.com (repo.anaconda.com)... 104.16.191.158, 104.16.32.241, 2606:4700::6810:bf9e, ...\n",
            "Connecting to repo.anaconda.com (repo.anaconda.com)|104.16.191.158|:443... connected.\n",
            "HTTP request sent, awaiting response... 200 OK\n",
            "Length: 72402405 (69M) [application/x-sh]\n",
            "Saving to: ‘mini.sh’\n",
            "\n",
            "mini.sh             100%[===================>]  69.05M  69.1MB/s    in 1.0s    \n",
            "\n",
            "2025-03-28 00:27:22 (69.1 MB/s) - ‘mini.sh’ saved [72402405/72402405]\n",
            "\n",
            "PREFIX=/usr/local\n",
            "Unpacking payload ...\n",
            "                                                                                   \n",
            "Installing base environment...\n",
            "\n",
            "\n",
            "Downloading and Extracting Packages\n",
            "\n",
            "Preparing transaction: - \b\bdone\n",
            "Executing transaction: | \b\bdone\n",
            "installation finished.\n",
            "WARNING:\n",
            "    You currently have a PYTHONPATH environment variable set. This may cause\n",
            "    unexpected behavior when running the Python interpreter in Miniconda3.\n",
            "    For best results, please verify that your PYTHONPATH only points to\n",
            "    directories of packages that are compatible with the Python interpreter\n",
            "    in Miniconda3: /usr/local\n",
            "Traceback (most recent call last):\n",
            "  File \"/usr/local/lib/python3.10/site-packages/conda/common/serialize.py\", line 13, in <module>\n",
            "    import ruamel.yaml as yaml\n",
            "ModuleNotFoundError: No module named 'ruamel'\n",
            "\n",
            "During handling of the above exception, another exception occurred:\n",
            "\n",
            "Traceback (most recent call last):\n",
            "  File \"/usr/local/lib/python3.10/site-packages/conda/common/serialize.py\", line 16, in <module>\n",
            "    import ruamel_yaml as yaml\n",
            "ModuleNotFoundError: No module named 'ruamel_yaml'\n",
            "\n",
            "During handling of the above exception, another exception occurred:\n",
            "\n",
            "Traceback (most recent call last):\n",
            "  File \"/usr/local/bin/conda\", line 12, in <module>\n",
            "    from conda.cli import main\n",
            "  File \"/usr/local/lib/python3.10/site-packages/conda/cli/__init__.py\", line 3, in <module>\n",
            "    from .main import main  # NOQA\n",
            "  File \"/usr/local/lib/python3.10/site-packages/conda/cli/main.py\", line 34, in <module>\n",
            "    from .conda_argparse import generate_parser\n",
            "  File \"/usr/local/lib/python3.10/site-packages/conda/cli/conda_argparse.py\", line 27, in <module>\n",
            "    from ..base.context import context\n",
            "  File \"/usr/local/lib/python3.10/site-packages/conda/base/context.py\", line 52, in <module>\n",
            "    from ..common.configuration import (Configuration, ConfigurationLoadError, MapParameter,\n",
            "  File \"/usr/local/lib/python3.10/site-packages/conda/common/configuration.py\", line 38, in <module>\n",
            "    from .serialize import yaml_round_trip_load\n",
            "  File \"/usr/local/lib/python3.10/site-packages/conda/common/serialize.py\", line 18, in <module>\n",
            "    raise ImportError(\"No yaml library available. To proceed, conda install ruamel.yaml\")\n",
            "ImportError: No yaml library available. To proceed, conda install ruamel.yaml\n",
            "Traceback (most recent call last):\n",
            "  File \"/usr/local/lib/python3.10/site-packages/conda/common/serialize.py\", line 13, in <module>\n",
            "    import ruamel.yaml as yaml\n",
            "ModuleNotFoundError: No module named 'ruamel'\n",
            "\n",
            "During handling of the above exception, another exception occurred:\n",
            "\n",
            "Traceback (most recent call last):\n",
            "  File \"/usr/local/lib/python3.10/site-packages/conda/common/serialize.py\", line 16, in <module>\n",
            "    import ruamel_yaml as yaml\n",
            "ModuleNotFoundError: No module named 'ruamel_yaml'\n",
            "\n",
            "During handling of the above exception, another exception occurred:\n",
            "\n",
            "Traceback (most recent call last):\n",
            "  File \"/usr/local/bin/conda\", line 12, in <module>\n",
            "    from conda.cli import main\n",
            "  File \"/usr/local/lib/python3.10/site-packages/conda/cli/__init__.py\", line 3, in <module>\n",
            "    from .main import main  # NOQA\n",
            "  File \"/usr/local/lib/python3.10/site-packages/conda/cli/main.py\", line 34, in <module>\n",
            "    from .conda_argparse import generate_parser\n",
            "  File \"/usr/local/lib/python3.10/site-packages/conda/cli/conda_argparse.py\", line 27, in <module>\n",
            "    from ..base.context import context\n",
            "  File \"/usr/local/lib/python3.10/site-packages/conda/base/context.py\", line 52, in <module>\n",
            "    from ..common.configuration import (Configuration, ConfigurationLoadError, MapParameter,\n",
            "  File \"/usr/local/lib/python3.10/site-packages/conda/common/configuration.py\", line 38, in <module>\n",
            "    from .serialize import yaml_round_trip_load\n",
            "  File \"/usr/local/lib/python3.10/site-packages/conda/common/serialize.py\", line 18, in <module>\n",
            "    raise ImportError(\"No yaml library available. To proceed, conda install ruamel.yaml\")\n",
            "ImportError: No yaml library available. To proceed, conda install ruamel.yaml\n",
            "/usr/local/bin/python: No module named ipykernel\n"
          ]
        }
      ]
    },
    {
      "cell_type": "markdown",
      "source": [
        "# Install SLEAP & Dependencies"
      ],
      "metadata": {
        "id": "-eRmGjIfOMDd"
      }
    },
    {
      "cell_type": "code",
      "source": [
        "# confirm using python 3.10\n",
        "! python3 --version"
      ],
      "metadata": {
        "id": "LkVsxSFMOeaT",
        "colab": {
          "base_uri": "https://localhost:8080/"
        },
        "collapsed": true,
        "outputId": "f9f8c2be-444c-48c5-c0ff-04b40cad83c1"
      },
      "execution_count": null,
      "outputs": [
        {
          "output_type": "stream",
          "name": "stdout",
          "text": [
            "Python 3.10.8\n"
          ]
        }
      ]
    },
    {
      "cell_type": "code",
      "source": [
        "# install sleap and dependencies:\n",
        "! pip install sleap[pypi]\n",
        "! pip install numpy==1.23\n",
        "! pip install matplotlib-inline\n",
        "! pip install ipython\n",
        "! apt-get install -y libcudnn8=8.6.0.163-1+cuda11.8\n",
        "! export LD_LIBRARY_PATH=/usr/local/cuda-11.8/lib64:$LD_LIBRARY_PATH\n",
        "! export CUDNN_INCLUDE_DIR=/usr/local/cuda/include\n",
        "! export CUDNN_LIB_DIR=/usr/local/cuda/lib64"
      ],
      "metadata": {
        "collapsed": true,
        "id": "4HxiDzDSN-Vb",
        "colab": {
          "base_uri": "https://localhost:8080/"
        },
        "outputId": "3c8f15d3-ad6c-4031-8ab6-71fa8023450c"
      },
      "execution_count": null,
      "outputs": [
        {
          "output_type": "stream",
          "name": "stdout",
          "text": [
            "Requirement already satisfied: sleap[pypi] in /usr/local/lib/python3.10/site-packages (1.4.1)\n",
            "Requirement already satisfied: qimage2ndarray in /usr/local/lib/python3.10/site-packages (from sleap[pypi]) (1.10.0)\n",
            "Requirement already satisfied: segmentation-models in /usr/local/lib/python3.10/site-packages (from sleap[pypi]) (1.0.1)\n",
            "Requirement already satisfied: nixio>=1.5.3 in /usr/local/lib/python3.10/site-packages (from sleap[pypi]) (1.5.4)\n",
            "Requirement already satisfied: imgstore<0.3.0 in /usr/local/lib/python3.10/site-packages (from sleap[pypi]) (0.2.9)\n",
            "Requirement already satisfied: pynwb>=2.3.3 in /usr/local/lib/python3.10/site-packages (from sleap[pypi]) (2.8.3)\n",
            "Requirement already satisfied: networkx in /usr/local/lib/python3.10/site-packages (from sleap[pypi]) (3.4.2)\n",
            "Requirement already satisfied: scikit-video in /usr/local/lib/python3.10/site-packages (from sleap[pypi]) (1.1.11)\n",
            "Requirement already satisfied: imageio-ffmpeg in /usr/local/lib/python3.10/site-packages (from sleap[pypi]) (0.6.0)\n",
            "Requirement already satisfied: python-rapidjson in /usr/local/lib/python3.10/site-packages (from sleap[pypi]) (1.20)\n",
            "Requirement already satisfied: attrs<=21.4.0,>=21.2.0 in /usr/local/lib/python3.10/site-packages (from sleap[pypi]) (21.4.0)\n",
            "Requirement already satisfied: imageio in /usr/local/lib/python3.10/site-packages (from sleap[pypi]) (2.37.0)\n",
            "Requirement already satisfied: scikit-learn==1.0.* in /usr/local/lib/python3.10/site-packages (from sleap[pypi]) (1.0.2)\n",
            "Requirement already satisfied: urllib3<2.0 in /usr/local/lib/python3.10/site-packages (from sleap[pypi]) (1.26.20)\n",
            "Requirement already satisfied: albumentations in /usr/local/lib/python3.10/site-packages (from sleap[pypi]) (1.3.1)\n",
            "Requirement already satisfied: pandas in /usr/local/lib/python3.10/site-packages (from sleap[pypi]) (2.2.3)\n",
            "Requirement already satisfied: opencv-python<=4.7.0,>=4.2.0 in /usr/local/lib/python3.10/site-packages (from sleap[pypi]) (4.6.0.66)\n",
            "Requirement already satisfied: pyzmq in /usr/local/lib/python3.10/site-packages (from sleap[pypi]) (26.3.0)\n",
            "Requirement already satisfied: scipy<=1.9.0,>=1.4.1 in /usr/local/lib/python3.10/site-packages (from sleap[pypi]) (1.9.0)\n",
            "Requirement already satisfied: ndx-pose<0.2.0 in /usr/local/lib/python3.10/site-packages (from sleap[pypi]) (0.1.1)\n",
            "Collecting numpy<1.23.0,>=1.19.5\n",
            "  Using cached numpy-1.22.4-cp310-cp310-manylinux_2_17_x86_64.manylinux2014_x86_64.whl (16.8 MB)\n",
            "Requirement already satisfied: tensorflow-hub<=0.14.0 in /usr/local/lib/python3.10/site-packages (from sleap[pypi]) (0.14.0)\n",
            "Requirement already satisfied: imgaug==0.4.0 in /usr/local/lib/python3.10/site-packages (from sleap[pypi]) (0.4.0)\n",
            "Requirement already satisfied: scikit-image in /usr/local/lib/python3.10/site-packages (from sleap[pypi]) (0.19.3)\n",
            "Requirement already satisfied: pykalman==0.9.5 in /usr/local/lib/python3.10/site-packages (from sleap[pypi]) (0.9.5)\n",
            "Requirement already satisfied: PySide2<=5.14.1,>=5.13.2 in /usr/local/lib/python3.10/site-packages (from sleap[pypi]) (5.13.2)\n",
            "Requirement already satisfied: seaborn in /usr/local/lib/python3.10/site-packages (from sleap[pypi]) (0.13.2)\n",
            "Requirement already satisfied: pillow<=8.4.0,>=8.3.1 in /usr/local/lib/python3.10/site-packages (from sleap[pypi]) (8.4.0)\n",
            "Requirement already satisfied: cattrs==1.1.1 in /usr/local/lib/python3.10/site-packages (from sleap[pypi]) (1.1.1)\n",
            "Requirement already satisfied: pyyaml in /usr/local/lib/python3.10/site-packages (from sleap[pypi]) (6.0.2)\n",
            "Requirement already satisfied: protobuf<3.20 in /usr/local/lib/python3.10/site-packages (from sleap[pypi]) (3.19.6)\n",
            "Requirement already satisfied: qtpy>=2.0.1 in /usr/local/lib/python3.10/site-packages (from sleap[pypi]) (2.4.3)\n",
            "Requirement already satisfied: jsmin in /usr/local/lib/python3.10/site-packages (from sleap[pypi]) (3.0.1)\n",
            "Requirement already satisfied: jsonpickle==1.2 in /usr/local/lib/python3.10/site-packages (from sleap[pypi]) (1.2)\n",
            "Requirement already satisfied: rich==10.16.1 in /usr/local/lib/python3.10/site-packages (from sleap[pypi]) (10.16.1)\n",
            "Requirement already satisfied: tensorflow<2.9,>=2.6.3 in /usr/local/lib/python3.10/site-packages (from sleap[pypi]) (2.8.4)\n",
            "Requirement already satisfied: psutil in /usr/local/lib/python3.10/site-packages (from sleap[pypi]) (7.0.0)\n",
            "Requirement already satisfied: six in /usr/local/lib/python3.10/site-packages (from imgaug==0.4.0->sleap[pypi]) (1.17.0)\n",
            "Requirement already satisfied: matplotlib in /usr/local/lib/python3.10/site-packages (from imgaug==0.4.0->sleap[pypi]) (3.8.4)\n",
            "Requirement already satisfied: Shapely in /usr/local/lib/python3.10/site-packages (from imgaug==0.4.0->sleap[pypi]) (2.0.7)\n",
            "Requirement already satisfied: commonmark<0.10.0,>=0.9.0 in /usr/local/lib/python3.10/site-packages (from rich==10.16.1->sleap[pypi]) (0.9.1)\n",
            "Requirement already satisfied: colorama<0.5.0,>=0.4.0 in /usr/local/lib/python3.10/site-packages (from rich==10.16.1->sleap[pypi]) (0.4.6)\n",
            "Requirement already satisfied: pygments<3.0.0,>=2.6.0 in /usr/local/lib/python3.10/site-packages (from rich==10.16.1->sleap[pypi]) (2.19.1)\n",
            "Requirement already satisfied: joblib>=0.11 in /usr/local/lib/python3.10/site-packages (from scikit-learn==1.0.*->sleap[pypi]) (1.4.2)\n",
            "Requirement already satisfied: threadpoolctl>=2.0.0 in /usr/local/lib/python3.10/site-packages (from scikit-learn==1.0.*->sleap[pypi]) (3.6.0)\n",
            "Requirement already satisfied: tzlocal in /usr/local/lib/python3.10/site-packages (from imgstore<0.3.0->sleap[pypi]) (5.3.1)\n",
            "Requirement already satisfied: pytz in /usr/local/lib/python3.10/site-packages (from imgstore<0.3.0->sleap[pypi]) (2025.2)\n",
            "Requirement already satisfied: python-dateutil in /usr/local/lib/python3.10/site-packages (from imgstore<0.3.0->sleap[pypi]) (2.9.0.post0)\n",
            "Requirement already satisfied: hdmf<4,>=2.5.6 in /usr/local/lib/python3.10/site-packages (from ndx-pose<0.2.0->sleap[pypi]) (3.14.6)\n",
            "Requirement already satisfied: h5py in /usr/local/lib/python3.10/site-packages (from nixio>=1.5.3->sleap[pypi]) (3.13.0)\n",
            "Requirement already satisfied: tzdata>=2022.7 in /usr/local/lib/python3.10/site-packages (from pandas->sleap[pypi]) (2025.2)\n",
            "Requirement already satisfied: shiboken2==5.13.2 in /usr/local/lib/python3.10/site-packages (from PySide2<=5.14.1,>=5.13.2->sleap[pypi]) (5.13.2)\n",
            "Requirement already satisfied: packaging in /usr/local/lib/python3.10/site-packages (from qtpy>=2.0.1->sleap[pypi]) (24.2)\n",
            "Requirement already satisfied: tifffile>=2019.7.26 in /usr/local/lib/python3.10/site-packages (from scikit-image->sleap[pypi]) (2025.3.13)\n",
            "Requirement already satisfied: PyWavelets>=1.1.1 in /usr/local/lib/python3.10/site-packages (from scikit-image->sleap[pypi]) (1.6.0)\n",
            "Requirement already satisfied: opt-einsum>=2.3.2 in /usr/local/lib/python3.10/site-packages (from tensorflow<2.9,>=2.6.3->sleap[pypi]) (3.4.0)\n",
            "Requirement already satisfied: astunparse>=1.6.0 in /usr/local/lib/python3.10/site-packages (from tensorflow<2.9,>=2.6.3->sleap[pypi]) (1.6.3)\n",
            "Requirement already satisfied: google-pasta>=0.1.1 in /usr/local/lib/python3.10/site-packages (from tensorflow<2.9,>=2.6.3->sleap[pypi]) (0.2.0)\n",
            "Requirement already satisfied: absl-py>=0.4.0 in /usr/local/lib/python3.10/site-packages (from tensorflow<2.9,>=2.6.3->sleap[pypi]) (2.2.1)\n",
            "Requirement already satisfied: keras-preprocessing>=1.1.1 in /usr/local/lib/python3.10/site-packages (from tensorflow<2.9,>=2.6.3->sleap[pypi]) (1.1.2)\n",
            "Requirement already satisfied: grpcio<2.0,>=1.24.3 in /usr/local/lib/python3.10/site-packages (from tensorflow<2.9,>=2.6.3->sleap[pypi]) (1.71.0)\n",
            "Requirement already satisfied: tensorflow-io-gcs-filesystem>=0.23.1 in /usr/local/lib/python3.10/site-packages (from tensorflow<2.9,>=2.6.3->sleap[pypi]) (0.37.1)\n",
            "Requirement already satisfied: tensorboard<2.9,>=2.8 in /usr/local/lib/python3.10/site-packages (from tensorflow<2.9,>=2.6.3->sleap[pypi]) (2.8.0)\n",
            "Requirement already satisfied: gast>=0.2.1 in /usr/local/lib/python3.10/site-packages (from tensorflow<2.9,>=2.6.3->sleap[pypi]) (0.4.0)\n",
            "Requirement already satisfied: keras<2.9,>=2.8.0rc0 in /usr/local/lib/python3.10/site-packages (from tensorflow<2.9,>=2.6.3->sleap[pypi]) (2.8.0)\n",
            "Requirement already satisfied: termcolor>=1.1.0 in /usr/local/lib/python3.10/site-packages (from tensorflow<2.9,>=2.6.3->sleap[pypi]) (2.5.0)\n",
            "Requirement already satisfied: setuptools in /usr/local/lib/python3.10/site-packages (from tensorflow<2.9,>=2.6.3->sleap[pypi]) (63.2.0)\n",
            "Requirement already satisfied: typing-extensions>=3.6.6 in /usr/local/lib/python3.10/site-packages (from tensorflow<2.9,>=2.6.3->sleap[pypi]) (4.13.0)\n",
            "Requirement already satisfied: tensorflow-estimator<2.9,>=2.8 in /usr/local/lib/python3.10/site-packages (from tensorflow<2.9,>=2.6.3->sleap[pypi]) (2.8.0)\n",
            "Requirement already satisfied: wrapt>=1.11.0 in /usr/local/lib/python3.10/site-packages (from tensorflow<2.9,>=2.6.3->sleap[pypi]) (1.17.2)\n",
            "Requirement already satisfied: libclang>=9.0.1 in /usr/local/lib/python3.10/site-packages (from tensorflow<2.9,>=2.6.3->sleap[pypi]) (18.1.1)\n",
            "Requirement already satisfied: flatbuffers>=1.12 in /usr/local/lib/python3.10/site-packages (from tensorflow<2.9,>=2.6.3->sleap[pypi]) (25.2.10)\n",
            "Requirement already satisfied: qudida>=0.0.4 in /usr/local/lib/python3.10/site-packages (from albumentations->sleap[pypi]) (0.0.4)\n",
            "Requirement already satisfied: opencv-python-headless>=4.1.1 in /usr/local/lib/python3.10/site-packages (from albumentations->sleap[pypi]) (4.11.0.86)\n",
            "Requirement already satisfied: efficientnet==1.0.0 in /usr/local/lib/python3.10/site-packages (from segmentation-models->sleap[pypi]) (1.0.0)\n",
            "Requirement already satisfied: image-classifiers==1.0.0 in /usr/local/lib/python3.10/site-packages (from segmentation-models->sleap[pypi]) (1.0.0)\n",
            "Requirement already satisfied: keras-applications<=1.0.8,>=1.0.7 in /usr/local/lib/python3.10/site-packages (from segmentation-models->sleap[pypi]) (1.0.8)\n",
            "Requirement already satisfied: wheel<1.0,>=0.23.0 in /usr/local/lib/python3.10/site-packages (from astunparse>=1.6.0->tensorflow<2.9,>=2.6.3->sleap[pypi]) (0.45.1)\n",
            "Requirement already satisfied: ruamel-yaml>=0.16 in /usr/local/lib/python3.10/site-packages (from hdmf<4,>=2.5.6->ndx-pose<0.2.0->sleap[pypi]) (0.18.10)\n",
            "Requirement already satisfied: jsonschema>=2.6.0 in /usr/local/lib/python3.10/site-packages (from hdmf<4,>=2.5.6->ndx-pose<0.2.0->sleap[pypi]) (4.17.3)\n",
            "Requirement already satisfied: kiwisolver>=1.3.1 in /usr/local/lib/python3.10/site-packages (from matplotlib->imgaug==0.4.0->sleap[pypi]) (1.4.8)\n",
            "Requirement already satisfied: pyparsing>=2.3.1 in /usr/local/lib/python3.10/site-packages (from matplotlib->imgaug==0.4.0->sleap[pypi]) (3.2.3)\n",
            "Requirement already satisfied: fonttools>=4.22.0 in /usr/local/lib/python3.10/site-packages (from matplotlib->imgaug==0.4.0->sleap[pypi]) (4.56.0)\n",
            "Requirement already satisfied: cycler>=0.10 in /usr/local/lib/python3.10/site-packages (from matplotlib->imgaug==0.4.0->sleap[pypi]) (0.12.1)\n",
            "Requirement already satisfied: contourpy>=1.0.1 in /usr/local/lib/python3.10/site-packages (from matplotlib->imgaug==0.4.0->sleap[pypi]) (1.2.1)\n",
            "Requirement already satisfied: google-auth-oauthlib<0.5,>=0.4.1 in /usr/local/lib/python3.10/site-packages (from tensorboard<2.9,>=2.8->tensorflow<2.9,>=2.6.3->sleap[pypi]) (0.4.6)\n",
            "Requirement already satisfied: tensorboard-data-server<0.7.0,>=0.6.0 in /usr/local/lib/python3.10/site-packages (from tensorboard<2.9,>=2.8->tensorflow<2.9,>=2.6.3->sleap[pypi]) (0.6.1)\n",
            "Requirement already satisfied: werkzeug>=0.11.15 in /usr/local/lib/python3.10/site-packages (from tensorboard<2.9,>=2.8->tensorflow<2.9,>=2.6.3->sleap[pypi]) (3.1.3)\n",
            "Requirement already satisfied: google-auth<3,>=1.6.3 in /usr/local/lib/python3.10/site-packages (from tensorboard<2.9,>=2.8->tensorflow<2.9,>=2.6.3->sleap[pypi]) (2.38.0)\n",
            "Requirement already satisfied: tensorboard-plugin-wit>=1.6.0 in /usr/local/lib/python3.10/site-packages (from tensorboard<2.9,>=2.8->tensorflow<2.9,>=2.6.3->sleap[pypi]) (1.8.1)\n",
            "Requirement already satisfied: requests<3,>=2.21.0 in /usr/local/lib/python3.10/site-packages (from tensorboard<2.9,>=2.8->tensorflow<2.9,>=2.6.3->sleap[pypi]) (2.28.1)\n",
            "Requirement already satisfied: markdown>=2.6.8 in /usr/local/lib/python3.10/site-packages (from tensorboard<2.9,>=2.8->tensorflow<2.9,>=2.6.3->sleap[pypi]) (3.7)\n",
            "Requirement already satisfied: pyasn1-modules>=0.2.1 in /usr/local/lib/python3.10/site-packages (from google-auth<3,>=1.6.3->tensorboard<2.9,>=2.8->tensorflow<2.9,>=2.6.3->sleap[pypi]) (0.4.1)\n",
            "Requirement already satisfied: cachetools<6.0,>=2.0.0 in /usr/local/lib/python3.10/site-packages (from google-auth<3,>=1.6.3->tensorboard<2.9,>=2.8->tensorflow<2.9,>=2.6.3->sleap[pypi]) (5.5.2)\n",
            "Requirement already satisfied: rsa<5,>=3.1.4 in /usr/local/lib/python3.10/site-packages (from google-auth<3,>=1.6.3->tensorboard<2.9,>=2.8->tensorflow<2.9,>=2.6.3->sleap[pypi]) (4.9)\n",
            "Requirement already satisfied: requests-oauthlib>=0.7.0 in /usr/local/lib/python3.10/site-packages (from google-auth-oauthlib<0.5,>=0.4.1->tensorboard<2.9,>=2.8->tensorflow<2.9,>=2.6.3->sleap[pypi]) (2.0.0)\n",
            "Requirement already satisfied: pyrsistent!=0.17.0,!=0.17.1,!=0.17.2,>=0.14.0 in /usr/local/lib/python3.10/site-packages (from jsonschema>=2.6.0->hdmf<4,>=2.5.6->ndx-pose<0.2.0->sleap[pypi]) (0.20.0)\n",
            "Requirement already satisfied: idna<4,>=2.5 in /usr/local/lib/python3.10/site-packages (from requests<3,>=2.21.0->tensorboard<2.9,>=2.8->tensorflow<2.9,>=2.6.3->sleap[pypi]) (3.10)\n",
            "Requirement already satisfied: certifi>=2017.4.17 in /usr/local/lib/python3.10/site-packages (from requests<3,>=2.21.0->tensorboard<2.9,>=2.8->tensorflow<2.9,>=2.6.3->sleap[pypi]) (2022.12.7)\n",
            "Requirement already satisfied: charset-normalizer<3,>=2 in /usr/local/lib/python3.10/site-packages (from requests<3,>=2.21.0->tensorboard<2.9,>=2.8->tensorflow<2.9,>=2.6.3->sleap[pypi]) (2.1.1)\n",
            "Requirement already satisfied: ruamel.yaml.clib>=0.2.7 in /usr/local/lib/python3.10/site-packages (from ruamel-yaml>=0.16->hdmf<4,>=2.5.6->ndx-pose<0.2.0->sleap[pypi]) (0.2.12)\n",
            "Requirement already satisfied: MarkupSafe>=2.1.1 in /usr/local/lib/python3.10/site-packages (from werkzeug>=0.11.15->tensorboard<2.9,>=2.8->tensorflow<2.9,>=2.6.3->sleap[pypi]) (3.0.2)\n",
            "Requirement already satisfied: pyasn1<0.7.0,>=0.4.6 in /usr/local/lib/python3.10/site-packages (from pyasn1-modules>=0.2.1->google-auth<3,>=1.6.3->tensorboard<2.9,>=2.8->tensorflow<2.9,>=2.6.3->sleap[pypi]) (0.6.1)\n",
            "Requirement already satisfied: oauthlib>=3.0.0 in /usr/local/lib/python3.10/site-packages (from requests-oauthlib>=0.7.0->google-auth-oauthlib<0.5,>=0.4.1->tensorboard<2.9,>=2.8->tensorflow<2.9,>=2.6.3->sleap[pypi]) (3.2.2)\n",
            "Installing collected packages: numpy\n",
            "  Attempting uninstall: numpy\n",
            "    Found existing installation: numpy 1.23.0\n",
            "    Uninstalling numpy-1.23.0:\n",
            "      Successfully uninstalled numpy-1.23.0\n",
            "Successfully installed numpy-1.22.4\n",
            "Collecting numpy==1.23\n",
            "  Using cached numpy-1.23.0-cp310-cp310-manylinux_2_17_x86_64.manylinux2014_x86_64.whl (17.0 MB)\n",
            "Installing collected packages: numpy\n",
            "  Attempting uninstall: numpy\n",
            "    Found existing installation: numpy 1.22.4\n",
            "    Uninstalling numpy-1.22.4:\n",
            "      Successfully uninstalled numpy-1.22.4\n",
            "Successfully installed numpy-1.23.0\n",
            "Requirement already satisfied: matplotlib-inline in /usr/local/lib/python3.10/site-packages (0.1.7)\n",
            "Requirement already satisfied: traitlets in /usr/local/lib/python3.10/site-packages (from matplotlib-inline) (5.14.3)\n",
            "Requirement already satisfied: ipython in /usr/local/lib/python3.10/site-packages (8.34.0)\n",
            "Requirement already satisfied: matplotlib-inline in /usr/local/lib/python3.10/site-packages (from ipython) (0.1.7)\n",
            "Requirement already satisfied: prompt_toolkit<3.1.0,>=3.0.41 in /usr/local/lib/python3.10/site-packages (from ipython) (3.0.50)\n",
            "Requirement already satisfied: jedi>=0.16 in /usr/local/lib/python3.10/site-packages (from ipython) (0.19.2)\n",
            "Requirement already satisfied: typing_extensions>=4.6 in /usr/local/lib/python3.10/site-packages (from ipython) (4.13.0)\n",
            "Requirement already satisfied: pexpect>4.3 in /usr/local/lib/python3.10/site-packages (from ipython) (4.9.0)\n",
            "Requirement already satisfied: traitlets>=5.13.0 in /usr/local/lib/python3.10/site-packages (from ipython) (5.14.3)\n",
            "Requirement already satisfied: exceptiongroup in /usr/local/lib/python3.10/site-packages (from ipython) (1.2.2)\n",
            "Requirement already satisfied: stack_data in /usr/local/lib/python3.10/site-packages (from ipython) (0.6.3)\n",
            "Requirement already satisfied: decorator in /usr/local/lib/python3.10/site-packages (from ipython) (5.2.1)\n",
            "Requirement already satisfied: pygments>=2.4.0 in /usr/local/lib/python3.10/site-packages (from ipython) (2.19.1)\n",
            "Requirement already satisfied: parso<0.9.0,>=0.8.4 in /usr/local/lib/python3.10/site-packages (from jedi>=0.16->ipython) (0.8.4)\n",
            "Requirement already satisfied: ptyprocess>=0.5 in /usr/local/lib/python3.10/site-packages (from pexpect>4.3->ipython) (0.7.0)\n",
            "Requirement already satisfied: wcwidth in /usr/local/lib/python3.10/site-packages (from prompt_toolkit<3.1.0,>=3.0.41->ipython) (0.2.13)\n",
            "Requirement already satisfied: pure-eval in /usr/local/lib/python3.10/site-packages (from stack_data->ipython) (0.2.3)\n",
            "Requirement already satisfied: asttokens>=2.1.0 in /usr/local/lib/python3.10/site-packages (from stack_data->ipython) (3.0.0)\n",
            "Requirement already satisfied: executing>=1.2.0 in /usr/local/lib/python3.10/site-packages (from stack_data->ipython) (2.2.0)\n",
            "Reading package lists... Done\n",
            "Building dependency tree... Done\n",
            "Reading state information... Done\n",
            "libcudnn8 is already the newest version (8.6.0.163-1+cuda11.8).\n",
            "0 upgraded, 0 newly installed, 0 to remove and 38 not upgraded.\n"
          ]
        }
      ]
    },
    {
      "cell_type": "code",
      "source": [
        "# load sleap training files from google drive\n",
        "from google.colab import drive\n",
        "drive.mount('/content/drive/')\n",
        "import os\n",
        "os.chdir(\"/content/drive/path\")\n",
        "! unzip '002_trained_model.slp.training_job.zip'\n",
        "! ls"
      ],
      "metadata": {
        "collapsed": true,
        "id": "N-jZcEByJYAg",
        "colab": {
          "base_uri": "https://localhost:8080/"
        },
        "outputId": "64fd0f55-6d2b-4269-cf94-b2b6cdf84bc0"
      },
      "execution_count": null,
      "outputs": [
        {
          "output_type": "stream",
          "name": "stdout",
          "text": [
            "Drive already mounted at /content/drive/; to attempt to forcibly remount, call drive.mount(\"/content/drive/\", force_remount=True).\n",
            "Archive:  test_trained_model.slp.training_job.zip\n",
            "replace train-script.sh? [y]es, [n]o, [A]ll, [N]one, [r]ename: A\n",
            "  inflating: train-script.sh         \n",
            "  inflating: inference-script.sh     \n",
            "  inflating: centroid.json           \n",
            "  inflating: jobs.yaml               \n",
            "  inflating: trained_model.pkg.slp   \n",
            "  inflating: centered_instance.json  \n",
            "002_trained_model.slp.training_job.zip\tmodels\n",
            "centered_instance.json\t\t\ttest\n",
            "centroid.json\t\t\t\ttest_trained_model.slp.training_job.zip\n",
            "inference-script.sh\t\t\ttrained_model.pkg.slp\n",
            "jobs.yaml\t\t\t\ttrain-script.sh\n"
          ]
        }
      ]
    },
    {
      "cell_type": "markdown",
      "source": [
        "# Run SLEAP Training"
      ],
      "metadata": {
        "id": "Re85XxfIH2Wh"
      }
    },
    {
      "cell_type": "code",
      "source": [
        "# keep the sleap program running in background\n",
        "import threading\n",
        "import time\n",
        "def keep_colab_alive():\n",
        "    while True:\n",
        "        print(\"Keeping Colab Session Active...\")\n",
        "        time.sleep(600)\n",
        "threading.Thread(target=keep_colab_alive, daemon=True).start()"
      ],
      "metadata": {
        "id": "upKUAwBagT4-"
      },
      "execution_count": null,
      "outputs": []
    },
    {
      "cell_type": "code",
      "source": [
        "# run sleap training using loaded training configuration\n",
        "! sleap-train centroid.json trained_model.pkg.slp\n",
        "! sleap-train centered_instance.json trained_model.pkg.slp"
      ],
      "metadata": {
        "id": "g7T27X02guir",
        "collapsed": true
      },
      "execution_count": null,
      "outputs": []
    },
    {
      "cell_type": "code",
      "source": [
        "# run sleap training from the last checkpoint\n",
        "! sleap-train '/content/drive/path.centroid/training_config.json' '/content/drive/path/trained_model.pkg.slp'"
      ],
      "metadata": {
        "id": "13_KTzwMgaKR"
      },
      "execution_count": null,
      "outputs": []
    },
    {
      "cell_type": "markdown",
      "source": [
        "# Run SLEAP Inference"
      ],
      "metadata": {
        "id": "ipIBxVJJhEVg"
      }
    },
    {
      "cell_type": "code",
      "source": [
        "# predicting instances in suggested frames from exported .slp file\n",
        "!sleap-track \\\n",
        "    -m #folder-prefix-in-models-folder#.centered_instance \\\n",
        "    -m #folder-prefix-in-models-folder#.centroid \\\n",
        "    --only-suggested-frames \\\n",
        "    -o m001.predictions.slp \\\n",
        "    trained_model.pkg.slp"
      ],
      "metadata": {
        "id": "yXN8pUblhO02"
      },
      "execution_count": null,
      "outputs": []
    },
    {
      "cell_type": "code",
      "source": [
        "# predicting and tracking instances in uploaded video (example.mp4)\n",
        "!sleap-track example.mp4 \\\n",
        "    --frames 0-100 \\\n",
        "    --tracking.tracker simple \\\n",
        "    -m #folder-prefix-in-models-folder#.centered_instance \\\n",
        "    -m #folder-prefix-in-models-folder#.centroid"
      ],
      "metadata": {
        "id": "Hd6UhPDAkOEP"
      },
      "execution_count": null,
      "outputs": []
    },
    {
      "cell_type": "markdown",
      "source": [
        "# Testing"
      ],
      "metadata": {
        "id": "rjwD1woEIFLf"
      }
    },
    {
      "cell_type": "code",
      "source": [
        "# check tensorflow version and GPU availability\n",
        "import tensorflow as tf\n",
        "print(\"TensorFlow version:\", tf.__version__)\n",
        "print(\"GPU Available:\", tf.config.list_physical_devices('GPU'))\n",
        "! nvidia-smi"
      ],
      "metadata": {
        "collapsed": true,
        "id": "d60PuV20ILff"
      },
      "execution_count": null,
      "outputs": []
    },
    {
      "cell_type": "code",
      "source": [
        "# check cuda and cudnn versions\n",
        "! dpkg -l | grep cudnn\n",
        "! nvcc --version\n",
        "! conda list cudatoolkit\n",
        "from tensorflow.python.framework import ops\n",
        "ops.get_default_graph()"
      ],
      "metadata": {
        "id": "Ggjy3oDtQzRU"
      },
      "execution_count": null,
      "outputs": []
    },
    {
      "cell_type": "code",
      "source": [
        "# check sleap\n",
        "! python -c \"import sleap; sleap.system_summary()\""
      ],
      "metadata": {
        "id": "Kzkj3emeAL3o"
      },
      "execution_count": null,
      "outputs": []
    },
    {
      "cell_type": "markdown",
      "source": [
        "# Bug Fixes"
      ],
      "metadata": {
        "id": "4jDIWJeRIRFq"
      }
    },
    {
      "cell_type": "code",
      "execution_count": null,
      "metadata": {
        "collapsed": true,
        "id": "_-DPa_XbZZh6"
      },
      "outputs": [],
      "source": [
        "# old from when I had to manually install dependencies on python 11\n",
        "# switched to use python 10 so I could use pip install sleap[pypi] instead\n",
        "! pip install sleap\n",
        "! pip install matplotlib\n",
        "! pip install cattrs\n",
        "! pip install scipy\n",
        "! pip install h5py\n",
        "! pip install opencv-python\n",
        "! pip install PyQt5\n",
        "! pip install PySide2\n",
        "! pip install python-rapidjson\n",
        "! pip install qtpy\n",
        "! conda install numpy=1.23\n",
        "! pip install jsmin\n",
        "! pip install tensorflow==2.10\n",
        "! pip install keras>=3.5.0\n",
        "# !pip install tensorflow==2.18 keras==2.13.1 opencv-python-headless\n",
        "# !pip install sleap[pypi]==1.3.3"
      ]
    },
    {
      "cell_type": "code",
      "source": [
        "# old from when I was trying to find a way to override the preinstalled cuda version 12.5 so that I could use tensorflow with GPU\n",
        "# colab only supports tensorflow versions 2.1x, which requires cuda version 11.8\n",
        "# used the following code to fix this problem:\n",
        "  # ! apt-get install -y libcudnn8=8.6.0.163-1+cuda11.8\n",
        "  # ! export LD_LIBRARY_PATH=/usr/local/cuda-11.8/lib64:$LD_LIBRARY_PATH\n",
        "  # ! export CUDNN_INCLUDE_DIR=/usr/local/cuda/include\n",
        "  # ! export CUDNN_LIB_DIR=/usr/local/cuda/lib64\n",
        "! sudo apt update\n",
        "! sudo apt install -y wget gnupg\n",
        "! wget https://developer.download.nvidia.com/compute/cuda/repos/ubuntu2204/x86_64/cuda-ubuntu2204.pin\n",
        "! sudo mv cuda-ubuntu2204.pin /etc/apt/preferences.d/cuda-repository-pin-600\n",
        "! wget https://developer.download.nvidia.com/compute/cuda/repos/ubuntu2204/x86_64/cuda-11-2_11.2.2_460.32.03-1_amd64.deb\n",
        "! sudo dpkg -i cuda-11-2_11.2.2_460.32.03-1_amd64.deb\n",
        "!sudo apt install cuda-11-2"
      ],
      "metadata": {
        "id": "cDRc7T1MeLSP"
      },
      "execution_count": null,
      "outputs": []
    },
    {
      "cell_type": "code",
      "source": [
        "# old from when I was trying to find a way to override the preinstalled cuda version 12.5 (see above for more detail about error)\n",
        "! pip install tensorflow-gpu==2.10\n",
        "! conda install cudatoolkit\n",
        "! export CUDA_HOME=/usr/local/lib/python3.10/site-packages/conda/envs/your_env_name/lib/python3.10/site-packages/cudatoolkit/11.2\n",
        "! export PATH=/usr/local/lib/python3.10/site-packages/conda/envs/your_env_name/lib/python3.10/site-packages/cudatoolkit/11.2/bin:$PATH\n",
        "! export LD_LIBRARY_PATH=/usr/local/lib/python3.10/site-packages/conda/envs/your_env_name/lib/python3.10/site-packages/cudatoolkit/11.2/lib64:$LD_LIBRARY_PATH\n",
        "! find /usr/local/lib/python3.10/site-packages/conda/envs/your_env_name/lib/python3.10/site-packages/cudatoolkit/11.2 -name \"nvcc\"\n",
        "! nvcc --version\n",
        "! conda list cudatoolkit"
      ],
      "metadata": {
        "collapsed": true,
        "id": "Qka1As4iSP95"
      },
      "execution_count": null,
      "outputs": []
    },
    {
      "cell_type": "code",
      "source": [
        "# old from when I was trying to find a way to override the preinstalled cuda version 12.5 (see above for more detail about error)\n",
        "! sudo find /usr/local/cuda-11.2/ -name 'libcudart.so.11.0'\n",
        "! sudo find / -name 'libcudart.so.11.0'\n",
        "! sudo find / -name 'libcuda.so.1'\n",
        "! sudo ln -s /usr/local/cuda-12.5/compat/libcuda.so.1 /usr/local/lib/libcuda.so\n",
        "! sudo ln -s /usr/local/cuda-12.5/compat/libcuda.so.1 /usr/local/lib64/libcuda.so"
      ],
      "metadata": {
        "collapsed": true,
        "id": "BIV_-E3iKOpI"
      },
      "execution_count": null,
      "outputs": []
    }
  ]
}