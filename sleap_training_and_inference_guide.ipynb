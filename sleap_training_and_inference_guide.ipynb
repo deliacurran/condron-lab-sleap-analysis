{
  "nbformat": 4,
  "nbformat_minor": 0,
  "metadata": {
    "colab": {
      "provenance": [],
      "toc_visible": true,
      "gpuType": "A100",
      "collapsed_sections": [
        "Re85XxfIH2Wh",
        "4jDIWJeRIRFq"
      ],
      "machine_shape": "hm",
      "include_colab_link": true
    },
    "kernelspec": {
      "name": "python3",
      "display_name": "Python 3"
    },
    "language_info": {
      "name": "python"
    },
    "accelerator": "GPU"
  },
  "cells": [
    {
      "cell_type": "markdown",
      "metadata": {
        "id": "view-in-github",
        "colab_type": "text"
      },
      "source": [
        "<a href=\"https://colab.research.google.com/github/deliacurran/condron-lab-sleap-analysis/blob/main/sleap_training_and_inference_guide.ipynb\" target=\"_parent\"><img src=\"https://colab.research.google.com/assets/colab-badge.svg\" alt=\"Open In Colab\"/></a>"
      ]
    },
    {
      "cell_type": "markdown",
      "source": [
        "<center>\n",
        "<h1></h1>\n",
        "<h2>SLEAP TRAINING AND INFERENCE GUIDE</h2>\n",
        "</center>\n",
        "<center>Delia Curran</center>\n",
        "<center>April 2, 2025 </center>"
      ],
      "metadata": {
        "id": "o9pPyURYut1o"
      }
    },
    {
      "cell_type": "markdown",
      "source": [
        "# SLEAP Requirements"
      ],
      "metadata": {
        "id": "47NE62wlqLmN"
      }
    },
    {
      "cell_type": "markdown",
      "source": [
        "---\n",
        "## SLEAP Software Requirements:\n",
        "*   All training videos must have the same aspect ratio\n",
        "  *   *see: [https://github.com/talmolab/sleap/issues/2004](https://github.com/talmolab/sleap/issues/2004)*\n",
        "*   Input scaling must be set to 1\n",
        "  *   *see: [https://github.com/talmolab/sleap/discussions/925](https://github.com/talmolab/sleap/discussions/925)*\n",
        "*   Python version must be <=3.10\n",
        "  *   *see: [https://github.com/talmolab/sleap/issues/2100](https://github.com/talmolab/sleap/issues/2100)*\n",
        "  *   *guide:[https://gist.github.com/kargaranamir/e0b7910fed0a31](https://gist.github.com/kargaranamir/e0b7910fed0a3189563d9254c7a2c439)*\n",
        "*   Must use CUDA 11.2 and cuDNN 8.1\n",
        "  *   *see: [https://github.com/DeepLabCut/DeepLabCut/issues/2465](https://github.com/DeepLabCut/DeepLabCut/issues/2465)*\n",
        "---"
      ],
      "metadata": {
        "id": "5ckye8VBqQzD"
      }
    },
    {
      "cell_type": "markdown",
      "source": [
        "---\n",
        "## Ongoing Issues:\n",
        "*   Issues with inference ([https://github.com/talmolab/sleap/issues/628](https://github.com/talmolab/sleap/issues/628))\n",
        "---"
      ],
      "metadata": {
        "id": "zK3s5Sypt82x"
      }
    },
    {
      "cell_type": "markdown",
      "source": [
        "# Configure Training Environment"
      ],
      "metadata": {
        "id": "X6KGPu4pHurJ"
      }
    },
    {
      "cell_type": "code",
      "source": [
        "# override and install python 3.10\n",
        "! wget -O mini.sh https://repo.anaconda.com/miniconda/Miniconda3-py310_22.11.1-1-Linux-x86_64.sh\n",
        "! chmod +x mini.sh\n",
        "! bash ./mini.sh -b -f -p /usr/local\n",
        "! conda install -q -y jupyter\n",
        "! conda install -q -y google-colab -c conda-forge\n",
        "! python -m ipykernel install --name \"py310\" --user"
      ],
      "metadata": {
        "id": "9Ke2obDM0UFY"
      },
      "execution_count": null,
      "outputs": []
    },
    {
      "cell_type": "markdown",
      "source": [
        "# Install SLEAP & Dependencies"
      ],
      "metadata": {
        "id": "-eRmGjIfOMDd"
      }
    },
    {
      "cell_type": "code",
      "source": [
        "# confirm using python 3.10\n",
        "! python3 --version"
      ],
      "metadata": {
        "id": "LkVsxSFMOeaT",
        "collapsed": true
      },
      "execution_count": null,
      "outputs": []
    },
    {
      "cell_type": "code",
      "source": [
        "# install sleap and dependencies\n",
        "! pip install sleap[pypi]"
      ],
      "metadata": {
        "collapsed": true,
        "id": "4HxiDzDSN-Vb"
      },
      "execution_count": null,
      "outputs": []
    },
    {
      "cell_type": "code",
      "source": [
        "# install additional sleap dependencies and load GPU support through CUDA\n",
        "! pip install matplotlib-inline\n",
        "! pip install ipython\n",
        "! apt-get install cuda-11-8\n",
        "! apt-get install -y libcudnn8=8.6.0.163-1+cuda11.8\n",
        "! pip install numpy==1.23\n",
        "\n",
        "! export PATH=/usr/local/cuda-11.8/bin:$PATH\n",
        "! export LD_LIBRARY_PATH=/usr/local/cuda-11.8/lib64:$LD_LIBRARY_PATH\n",
        "! export CUDNN_INCLUDE_DIR=/usr/local/cuda/include\n",
        "! export CUDNN_LIB_DIR=/usr/local/cuda/lib64"
      ],
      "metadata": {
        "collapsed": true,
        "id": "9MLVNw67z-fR"
      },
      "execution_count": null,
      "outputs": []
    },
    {
      "cell_type": "code",
      "source": [
        "# restart runtime so GPU changes take effect\n",
        "import os\n",
        "os._exit(0)"
      ],
      "metadata": {
        "id": "IAf3-ZlZochB"
      },
      "execution_count": null,
      "outputs": []
    },
    {
      "cell_type": "markdown",
      "source": [
        "# Run SLEAP Training"
      ],
      "metadata": {
        "id": "Re85XxfIH2Wh"
      }
    },
    {
      "cell_type": "code",
      "source": [
        "# load sleap training files from google drive\n",
        "from google.colab import drive\n",
        "drive.mount('/content/drive/')\n",
        "import os\n",
        "os.chdir(\"/content/drive/My Drive/sleap/training jobs\")\n",
        "! unzip model.slp.training_job.zip\n",
        "! ls\n",
        "print(\"Successfully loaded sleap training files\")"
      ],
      "metadata": {
        "collapsed": true,
        "id": "N-jZcEByJYAg"
      },
      "execution_count": null,
      "outputs": []
    },
    {
      "cell_type": "code",
      "source": [
        "# keep the sleap program running in background\n",
        "import threading\n",
        "import time\n",
        "def keep_colab_alive():\n",
        "    while True:\n",
        "        print(\"Keeping Colab Session Active...\")\n",
        "        time.sleep(600)\n",
        "threading.Thread(target=keep_colab_alive, daemon=True).start()"
      ],
      "metadata": {
        "id": "upKUAwBagT4-"
      },
      "execution_count": null,
      "outputs": []
    },
    {
      "cell_type": "code",
      "source": [
        "# run top-down sleap training using loaded training job\n",
        "! sleap-train centroid.json trained_model.pkg.slp\n",
        "! sleap-train centered_instance.json trained_model.pkg.slp"
      ],
      "metadata": {
        "id": "g7T27X02guir",
        "collapsed": true
      },
      "execution_count": null,
      "outputs": []
    },
    {
      "cell_type": "code",
      "source": [
        "# run multi-class top-down-id sleap training using loaded training job (instance tracking)\n",
        "! sleap-train centroid.json trained_model.pkg.slp\n",
        "! sleap-train multi_class_topdown.json trained_model.pkg.slp"
      ],
      "metadata": {
        "id": "O8OE3fdonnnJ"
      },
      "execution_count": null,
      "outputs": []
    },
    {
      "cell_type": "markdown",
      "source": [
        "# Run SLEAP Inference"
      ],
      "metadata": {
        "id": "ipIBxVJJhEVg"
      }
    },
    {
      "cell_type": "code",
      "source": [
        "# load sleap inference files from google drive\n",
        "from google.colab import drive\n",
        "drive.mount('/content/drive')\n",
        "!ls \"/content/drive/My Drive/sleap/models\"\n",
        "!ls \"/content/drive/My Drive/sleap\"\n",
        "print(\"Successfully loaded sleap inference files\")"
      ],
      "metadata": {
        "id": "4nfGqX71w9Up"
      },
      "execution_count": null,
      "outputs": []
    },
    {
      "cell_type": "code",
      "source": [
        "# predicting instances in suggested frames from exported .slp file\n",
        "!sleap-track \\\n",
        "    -m /content/drive/My\\ Drive/sleap/models/top-down250401_145841.centroid \\\n",
        "    -m /content/drive/My\\ Drive/sleap/models/top-down250401_145841.centered_instance \\\n",
        "    --only-suggested-frames \\\n",
        "    --threshold 0.05 \\\n",
        "    -o 001.predictions.slp \\\n",
        "    /content/drive/My\\ Drive/sleap/trained_model.pkg.slp\n",
        "\n",
        "# if running top-down-id\n",
        "# -m /content/drive/My\\ Drive/Academic/sleap/models/top-down250401_145841.multi_class_topdown \\"
      ],
      "metadata": {
        "id": "yXN8pUblhO02",
        "collapsed": true
      },
      "execution_count": null,
      "outputs": []
    },
    {
      "cell_type": "code",
      "source": [
        "# predicting and tracking instances in uploaded video (example.mp4)\n",
        "! ffmpeg -i 'example.mp4' -vf \"scale=1280:720:force_original_aspect_ratio=decrease,pad=1280:720:(ow-iw)/2:(oh-ih)/2:black\" 'crop_example.mp4'\n",
        "!sleap-track example.mp4\\\n",
        "    --frames 0-100 \\\n",
        "    --tracking.tracker simple \\\n",
        "    -m /content/drive/My\\ Drive/sleap/models/001250328_201355.centered_instance \\\n",
        "    -m /content/drive/My\\ Drive/sleap/models/001250328_201355.centroid"
      ],
      "metadata": {
        "id": "ID1_1zUEaDms"
      },
      "execution_count": null,
      "outputs": []
    },
    {
      "cell_type": "markdown",
      "source": [
        "# Testing"
      ],
      "metadata": {
        "id": "rjwD1woEIFLf"
      }
    },
    {
      "cell_type": "code",
      "source": [
        "# check sleap GPU connection\n",
        "! python -c \"import sleap; sleap.system_summary()\""
      ],
      "metadata": {
        "id": "Kzkj3emeAL3o"
      },
      "execution_count": null,
      "outputs": []
    },
    {
      "cell_type": "code",
      "source": [
        "# check tensorflow version and GPU availability\n",
        "! pip uninstall tensorflow -y\n",
        "!pip install tensorflow==2.12\n",
        "import tensorflow as tf\n",
        "print(\"TensorFlow version:\", tf.__version__)\n",
        "print(\"GPU Available:\", tf.config.list_physical_devices('GPU'))\n",
        "! nvidia-smi"
      ],
      "metadata": {
        "collapsed": true,
        "id": "d60PuV20ILff"
      },
      "execution_count": null,
      "outputs": []
    },
    {
      "cell_type": "code",
      "source": [
        "# confirm tensorflow is using GPU\n",
        "import tensorflow as tf\n",
        "print(\"TF Built with CUDA:\", tf.test.is_built_with_cuda())\n",
        "print(\"TF Built with GPU support:\", tf.test.is_built_with_gpu_support())\n",
        "print(\"Available GPUs:\", tf.config.list_physical_devices('GPU'))"
      ],
      "metadata": {
        "id": "_wC27p_QDXU7"
      },
      "execution_count": null,
      "outputs": []
    },
    {
      "cell_type": "code",
      "source": [
        "# check cuda and cudnn versions\n",
        "! dpkg -l | grep cudnn\n",
        "! nvcc --version\n",
        "! conda list cudatoolkit\n",
        "from tensorflow.python.framework import ops\n",
        "ops.get_default_graph()"
      ],
      "metadata": {
        "id": "Ggjy3oDtQzRU"
      },
      "execution_count": null,
      "outputs": []
    },
    {
      "cell_type": "markdown",
      "source": [
        "# Bug Fixes"
      ],
      "metadata": {
        "id": "4jDIWJeRIRFq"
      }
    },
    {
      "cell_type": "code",
      "execution_count": null,
      "metadata": {
        "collapsed": true,
        "id": "_-DPa_XbZZh6"
      },
      "outputs": [],
      "source": [
        "# old from when I had to manually install dependencies on python 11\n",
        "# switched to use python 10 so I could use pip install sleap[pypi] instead\n",
        "! pip install sleap\n",
        "! pip install matplotlib\n",
        "! pip install cattrs\n",
        "! pip install scipy\n",
        "! pip install h5py\n",
        "! pip install opencv-python\n",
        "! pip install PyQt5\n",
        "! pip install PySide2\n",
        "! pip install python-rapidjson\n",
        "! pip install qtpy\n",
        "! conda install numpy=1.23\n",
        "! pip install jsmin\n",
        "! pip install tensorflow==2.10\n",
        "! pip install keras>=3.5.0\n",
        "# !pip install tensorflow==2.18 keras==2.13.1 opencv-python-headless\n",
        "# !pip install sleap[pypi]==1.3.3"
      ]
    },
    {
      "cell_type": "code",
      "source": [
        "# old from when I was trying to find a way to override the preinstalled cuda version 12.5 so that I could use tensorflow with GPU\n",
        "# colab only supports tensorflow versions 2.1x, which requires cuda version 11.8\n",
        "# used the following code to fix this problem:\n",
        "  # ! apt-get install -y libcudnn8=8.6.0.163-1+cuda11.8\n",
        "  # ! export LD_LIBRARY_PATH=/usr/local/cuda-11.8/lib64:$LD_LIBRARY_PATH\n",
        "  # ! export CUDNN_INCLUDE_DIR=/usr/local/cuda/include\n",
        "  # ! export CUDNN_LIB_DIR=/usr/local/cuda/lib64\n",
        "! sudo apt update\n",
        "! sudo apt install -y wget gnupg\n",
        "! wget https://developer.download.nvidia.com/compute/cuda/repos/ubuntu2204/x86_64/cuda-ubuntu2204.pin\n",
        "! sudo mv cuda-ubuntu2204.pin /etc/apt/preferences.d/cuda-repository-pin-600\n",
        "! wget https://developer.download.nvidia.com/compute/cuda/repos/ubuntu2204/x86_64/cuda-11-2_11.2.2_460.32.03-1_amd64.deb\n",
        "! sudo dpkg -i cuda-11-2_11.2.2_460.32.03-1_amd64.deb\n",
        "!sudo apt install cuda-11-2"
      ],
      "metadata": {
        "id": "cDRc7T1MeLSP"
      },
      "execution_count": null,
      "outputs": []
    },
    {
      "cell_type": "code",
      "source": [
        "# old from when I was trying to find a way to override the preinstalled cuda version 12.5 (see above for more detail about error)\n",
        "! pip install tensorflow-gpu==2.10\n",
        "! conda install cudatoolkit\n",
        "! export CUDA_HOME=/usr/local/lib/python3.10/site-packages/conda/envs/your_env_name/lib/python3.10/site-packages/cudatoolkit/11.2\n",
        "! export PATH=/usr/local/lib/python3.10/site-packages/conda/envs/your_env_name/lib/python3.10/site-packages/cudatoolkit/11.2/bin:$PATH\n",
        "! export LD_LIBRARY_PATH=/usr/local/lib/python3.10/site-packages/conda/envs/your_env_name/lib/python3.10/site-packages/cudatoolkit/11.2/lib64:$LD_LIBRARY_PATH\n",
        "! find /usr/local/lib/python3.10/site-packages/conda/envs/your_env_name/lib/python3.10/site-packages/cudatoolkit/11.2 -name \"nvcc\"\n",
        "! nvcc --version\n",
        "! conda list cudatoolkit"
      ],
      "metadata": {
        "collapsed": true,
        "id": "Qka1As4iSP95"
      },
      "execution_count": null,
      "outputs": []
    },
    {
      "cell_type": "code",
      "source": [
        "# old from when I was trying to find a way to override the preinstalled cuda version 12.5 (see above for more detail about error)\n",
        "! sudo find /usr/local/cuda-11.2/ -name 'libcudart.so.11.0'\n",
        "! sudo find / -name 'libcudart.so.11.0'\n",
        "! sudo find / -name 'libcuda.so.1'\n",
        "! sudo ln -s /usr/local/cuda-12.5/compat/libcuda.so.1 /usr/local/lib/libcuda.so\n",
        "! sudo ln -s /usr/local/cuda-12.5/compat/libcuda.so.1 /usr/local/lib64/libcuda.so"
      ],
      "metadata": {
        "collapsed": true,
        "id": "BIV_-E3iKOpI"
      },
      "execution_count": null,
      "outputs": []
    }
  ]
}